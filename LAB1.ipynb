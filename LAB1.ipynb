{
 "cells": [
  {
   "cell_type": "code",
   "execution_count": 3,
   "id": "929c445a-a688-42e7-be9e-90946a051860",
   "metadata": {},
   "outputs": [
    {
     "name": "stdout",
     "output_type": "stream",
     "text": [
      "hello\n",
      "hello\n"
     ]
    }
   ],
   "source": [
    "for i in range(2):\n",
    "  print(\"hello\");"
   ]
  },
  {
   "cell_type": "code",
   "execution_count": 21,
   "id": "d9af993f-8176-4569-b9fd-014ef5bcb4d0",
   "metadata": {},
   "outputs": [
    {
     "name": "stdout",
     "output_type": "stream",
     "text": [
      "[1, 0, 9, 8, 7, 3, 26, 1, 0, 10]\n",
      "[1, 0, 9, 8, 7, 3, 26, 1, 0, 10]\n",
      "[1, 0, 9, 8, 7, 3, 26, 1, 0, 10]\n",
      "[1, 0, 9, 8, 7, 3, 26, 1, 0, 10]\n",
      "[1, 0, 9, 8, 7, 3, 26, 1, 0, 10]\n",
      "[1, 0, 9, 8, 7, 3, 26, 1, 0, 10]\n",
      "[1, 0, 9, 8, 7, 3, 26, 1, 0, 10]\n",
      "[1, 0, 9, 8, 7, 3, 26, 1, 0, 10]\n",
      "[1, 0, 9, 8, 7, 3, 26, 1, 0, 10]\n",
      "[1, 0, 9, 8, 7, 3, 26, 1, 0, 10]\n"
     ]
    }
   ],
   "source": [
    "x=[1,0,9,8,7,3,26,1,0,10]\n",
    "swapped=False\n",
    "for i in range(10-1):\n",
    "    for j in range(i-10-1):\n",
    "      if x[j] > x[j+1]:\n",
    "                x[j], x[j+1] = x[j+1], x[j]\n",
    "                swapped = True\n",
    "       # swapped= False\n",
    "       # break;\n",
    "\n",
    "\n",
    "\n",
    "for i in range(10):\n",
    "    print(x);"
   ]
  },
  {
   "cell_type": "code",
   "execution_count": 25,
   "id": "8df82a89-0e0b-4fd3-8d1d-5cf2cdb95e2f",
   "metadata": {},
   "outputs": [
    {
     "name": "stdout",
     "output_type": "stream",
     "text": [
      "string 1 Number 5\n"
     ]
    }
   ],
   "source": [
    "x=1 \n",
    "y=5\n",
    "print(\"string\",x,\"Number\",y)"
   ]
  },
  {
   "cell_type": "code",
   "execution_count": 33,
   "id": "697c6523-c822-45b0-9ec8-88ee944d9f69",
   "metadata": {},
   "outputs": [
    {
     "name": "stdout",
     "output_type": "stream",
     "text": [
      "41\n"
     ]
    }
   ],
   "source": [
    "for i in range(10):\n",
    "  x=x+1\n",
    "\n",
    "print(x)"
   ]
  },
  {
   "cell_type": "code",
   "execution_count": 34,
   "id": "946ee89a-3e0b-4ec2-b19d-a678a36b3e78",
   "metadata": {},
   "outputs": [
    {
     "name": "stdin",
     "output_type": "stream",
     "text": [
      "enter name: Hassan\n"
     ]
    },
    {
     "name": "stdout",
     "output_type": "stream",
     "text": [
      "Hassan\n"
     ]
    }
   ],
   "source": [
    "name = input(\"enter name:\")\n",
    "print(name)"
   ]
  },
  {
   "cell_type": "code",
   "execution_count": 35,
   "id": "3984bd14-9504-48bf-9bd8-6b368832eda9",
   "metadata": {},
   "outputs": [
    {
     "name": "stdin",
     "output_type": "stream",
     "text": [
      "enter num: 5\n"
     ]
    },
    {
     "name": "stdout",
     "output_type": "stream",
     "text": [
      "5\n"
     ]
    }
   ],
   "source": [
    "num = int(input(\"enter num:\"))\n",
    "print(num)"
   ]
  },
  {
   "cell_type": "code",
   "execution_count": null,
   "id": "53940530-d05f-42cc-9696-ec77cc363370",
   "metadata": {},
   "outputs": [],
   "source": []
  }
 ],
 "metadata": {
  "kernelspec": {
   "display_name": "Python 3 (ipykernel)",
   "language": "python",
   "name": "python3"
  },
  "language_info": {
   "codemirror_mode": {
    "name": "ipython",
    "version": 3
   },
   "file_extension": ".py",
   "mimetype": "text/x-python",
   "name": "python",
   "nbconvert_exporter": "python",
   "pygments_lexer": "ipython3",
   "version": "3.11.7"
  }
 },
 "nbformat": 4,
 "nbformat_minor": 5
}
