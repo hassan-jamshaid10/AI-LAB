{
  "nbformat": 4,
  "nbformat_minor": 0,
  "metadata": {
    "colab": {
      "provenance": []
    },
    "kernelspec": {
      "name": "python3",
      "display_name": "Python 3"
    },
    "language_info": {
      "name": "python"
    }
  },
  "cells": [
    {
      "cell_type": "code",
      "source": [
        "#2.3\n",
        "def bubble_sort(arr):\n",
        "    n = len(arr)\n",
        "    for i in range(n):\n",
        "        for j in range(0, n - i - 1):\n",
        "            if arr[j] > arr[j + 1]:\n",
        "                arr[j], arr[j + 1] = arr[j + 1], arr[j]\n",
        "    return arr\n",
        "\n",
        "def selection_sort(arr):\n",
        "    n = len(arr)\n",
        "    for i in range(n):\n",
        "        min_index = i\n",
        "        for j in range(i + 1, n):\n",
        "            if arr[j] < arr[min_index]:\n",
        "                min_index = j\n",
        "        arr[i], arr[min_index] = arr[min_index], arr[i]\n",
        "    return arr\n",
        "\n",
        "def insertion_sort(arr):\n",
        "    n = len(arr)\n",
        "    for i in range(1, n):\n",
        "        key = arr[i]\n",
        "        j = i - 1\n",
        "        while j >= 0 and arr[j] > key:\n",
        "            arr[j + 1] = arr[j]\n",
        "            j -= 1\n",
        "        arr[j + 1] = key\n",
        "    return arr\n",
        "\n",
        "def merge_sort(arr):\n",
        "    if len(arr) > 1:\n",
        "        mid = len(arr) // 2\n",
        "        left = arr[:mid]\n",
        "        right = arr[mid:]\n",
        "\n",
        "        merge_sort(left)\n",
        "        merge_sort(right)\n",
        "\n",
        "        i = j = k = 0\n",
        "\n",
        "        while i < len(left) and j < len(right):\n",
        "            if left[i] < right[j]:\n",
        "                arr[k] = left[i]\n",
        "                i += 1\n",
        "            else:\n",
        "                arr[k] = right[j]\n",
        "                j += 1\n",
        "            k += 1\n",
        "\n",
        "        while i < len(left):\n",
        "            arr[k] = left[i]\n",
        "            i += 1\n",
        "            k += 1\n",
        "\n",
        "        while j < len(right):\n",
        "            arr[k] = right[j]\n",
        "            j += 1\n",
        "            k += 1\n",
        "    return arr\n",
        "\n",
        "arr = ['P', 'Y', 'T', 'H', 'O', 'N']\n",
        "\n",
        "print(\"Original list:\", arr)\n",
        "print(\"Bubble Sort:\", bubble_sort(arr))\n",
        "print(\"Selection Sort:\", selection_sort(arr))\n",
        "print(\"Insertion Sort:\", insertion_sort(arr))\n",
        "print(\"Merge Sort:\", merge_sort(arr))\n"
      ],
      "metadata": {
        "colab": {
          "base_uri": "https://localhost:8080/"
        },
        "id": "aiP1Q2fyPYyO",
        "outputId": "03d44b94-abf4-4cb2-cfff-2706916f06f8"
      },
      "execution_count": 1,
      "outputs": [
        {
          "output_type": "stream",
          "name": "stdout",
          "text": [
            "Original list: ['P', 'Y', 'T', 'H', 'O', 'N']\n",
            "Bubble Sort: ['H', 'N', 'O', 'P', 'T', 'Y']\n",
            "Selection Sort: ['H', 'N', 'O', 'P', 'T', 'Y']\n",
            "Insertion Sort: ['H', 'N', 'O', 'P', 'T', 'Y']\n",
            "Merge Sort: ['H', 'N', 'O', 'P', 'T', 'Y']\n"
          ]
        }
      ]
    },
    {
      "cell_type": "code",
      "source": [
        "#2.4\n",
        "def cal_M(numbers):\n",
        "    total = sum(numbers)\n",
        "    count = len(numbers)\n",
        "    mean = total / count\n",
        "\n",
        "    numbers.sort()\n",
        "    mid = count // 2\n",
        "    if count % 2 == 0:\n",
        "        median = (numbers[mid - 1] + numbers[mid]) / 2\n",
        "    else:\n",
        "        median = numbers[mid]\n",
        "\n",
        "\n",
        "    frequency = {}\n",
        "    for num in numbers:\n",
        "        frequency[num] = frequency.get(num, 0) + 1\n",
        "\n",
        "    max_count = max(frequency.values())\n",
        "    mode = [key for key, val in frequency.items() if val == max_count]\n",
        "\n",
        "    mode = mode[0] if len(mode) == 1 else \"No unique mode\"\n",
        "\n",
        "    print(f\"Mean: {mean}\")\n",
        "    print(f\"Median: {median}\")\n",
        "    print(f\"Mode: {mode}\")\n",
        "\n",
        "\n",
        "numbers = [4,5,6,7,8,9,10]\n",
        "cal_M(numbers)\n"
      ],
      "metadata": {
        "colab": {
          "base_uri": "https://localhost:8080/"
        },
        "id": "PXAcdV0-QgRP",
        "outputId": "e9b0a851-e7fc-497e-9b4c-d0f011544e7f"
      },
      "execution_count": 2,
      "outputs": [
        {
          "output_type": "stream",
          "name": "stdout",
          "text": [
            "Mean: 7.0\n",
            "Median: 7\n",
            "Mode: No unique mode\n"
          ]
        }
      ]
    },
    {
      "cell_type": "code",
      "source": [
        "#2.5\n",
        "def dups(num):\n",
        "    seen = set()\n",
        "    duplicates = set()\n",
        "\n",
        "    for n in num:\n",
        "        if n in seen:\n",
        "            duplicates.add(n)\n",
        "        else:\n",
        "            seen.add(n)\n",
        "\n",
        "    return list(duplicates)\n",
        "\n",
        "num = [1, 2, 3, 4, 2, 5, 6, 3, 7, 8, 1, 9]\n",
        "\n",
        "duplicate_num = dups(num)\n",
        "\n",
        "print(\"Duplicate elements:\", duplicate_num if duplicate_num else \"No duplicates\")\n"
      ],
      "metadata": {
        "colab": {
          "base_uri": "https://localhost:8080/"
        },
        "id": "PJFGYlIJRCbE",
        "outputId": "d737e2c0-a190-42ed-c474-9ba349993912"
      },
      "execution_count": 7,
      "outputs": [
        {
          "output_type": "stream",
          "name": "stdout",
          "text": [
            "Duplicate elements: [1, 2, 3]\n"
          ]
        }
      ]
    },
    {
      "cell_type": "code",
      "source": [
        "#2.6\n",
        "a = [1, 3, 5]\n",
        "b = [2, 4, 6]\n",
        "\n",
        "c = a + b\n",
        "d = sorted(c)\n",
        "\n",
        "d.reverse()\n",
        "c[3] = 42\n",
        "d.append(10)\n",
        "c.extend([7, 8, 9])\n",
        "\n",
        "print(\"First three elements of c:\", c[:3])\n",
        "print(\"Last element of d:\", d[-1])\n",
        "print(\"Length of d:\", len(d))\n"
      ],
      "metadata": {
        "colab": {
          "base_uri": "https://localhost:8080/"
        },
        "id": "D92lPZElReQw",
        "outputId": "925a794c-9f92-4ff9-a734-a7ec96eb69a9"
      },
      "execution_count": 8,
      "outputs": [
        {
          "output_type": "stream",
          "name": "stdout",
          "text": [
            "First three elements of c: [1, 3, 5]\n",
            "Last element of d: 10\n",
            "Length of d: 7\n"
          ]
        }
      ]
    },
    {
      "cell_type": "code",
      "source": [
        "#2.7\n",
        "\n",
        "a = [(1,), (2, 3), (4, 5, 6)]\n",
        "\n",
        "print(\"Second element of the second element of a:\", a[1][1])\n",
        "\n",
        "b = [[1, 2, 3, 4], [5, 6, 7, 8], [9, 10, 11, 12], [13, 14, 15, 16]]\n",
        "\n",
        "print(\"Last two elements of the first element of b:\", b[0][2:])\n"
      ],
      "metadata": {
        "colab": {
          "base_uri": "https://localhost:8080/"
        },
        "id": "iZ9I1BdJSFhs",
        "outputId": "76f4daa3-0646-44a3-8656-1f482ce2638d"
      },
      "execution_count": 9,
      "outputs": [
        {
          "output_type": "stream",
          "name": "stdout",
          "text": [
            "Second element of the second element of a: 3\n",
            "Last two elements of the first element of b: [3, 4]\n"
          ]
        }
      ]
    },
    {
      "cell_type": "code",
      "source": [],
      "metadata": {
        "id": "bx0jph5ASf7I"
      },
      "execution_count": null,
      "outputs": []
    }
  ]
}